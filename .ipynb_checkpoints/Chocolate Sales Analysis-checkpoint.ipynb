{
 "cells": [
  {
   "cell_type": "markdown",
   "id": "4dd3e855",
   "metadata": {},
   "source": [
    "## Import all the necessary libraries"
   ]
  },
  {
   "cell_type": "code",
   "execution_count": 1,
   "id": "3ce02ea5",
   "metadata": {},
   "outputs": [],
   "source": [
    "import pandas as pd\n",
    "import numpy as np\n",
    "import seaborn as sns\n",
    "import matplotlib.pyplot as plt\n",
    "%matplotlib inline"
   ]
  },
  {
   "cell_type": "markdown",
   "id": "c1cf9cd1",
   "metadata": {},
   "source": [
    "## Data Understanding:"
   ]
  },
  {
   "cell_type": "code",
   "execution_count": 2,
   "id": "4337d01c",
   "metadata": {},
   "outputs": [
    {
     "data": {
      "text/html": [
       "<div>\n",
       "<style scoped>\n",
       "    .dataframe tbody tr th:only-of-type {\n",
       "        vertical-align: middle;\n",
       "    }\n",
       "\n",
       "    .dataframe tbody tr th {\n",
       "        vertical-align: top;\n",
       "    }\n",
       "\n",
       "    .dataframe thead th {\n",
       "        text-align: right;\n",
       "    }\n",
       "</style>\n",
       "<table border=\"1\" class=\"dataframe\">\n",
       "  <thead>\n",
       "    <tr style=\"text-align: right;\">\n",
       "      <th></th>\n",
       "      <th>Sales Person</th>\n",
       "      <th>Geography</th>\n",
       "      <th>Product</th>\n",
       "      <th>Amount</th>\n",
       "      <th>Units</th>\n",
       "      <th>cost per unit</th>\n",
       "      <th>Cost</th>\n",
       "      <th>Profit</th>\n",
       "      <th>profit %</th>\n",
       "    </tr>\n",
       "  </thead>\n",
       "  <tbody>\n",
       "    <tr>\n",
       "      <th>28</th>\n",
       "      <td>Gigi Bohling</td>\n",
       "      <td>Canada</td>\n",
       "      <td>Fruit &amp; Nut Bars</td>\n",
       "      <td>$6,314</td>\n",
       "      <td>15</td>\n",
       "      <td>6</td>\n",
       "      <td>97</td>\n",
       "      <td>$6,217</td>\n",
       "      <td>98%</td>\n",
       "    </tr>\n",
       "    <tr>\n",
       "      <th>212</th>\n",
       "      <td>Husein Augar</td>\n",
       "      <td>New Zealand</td>\n",
       "      <td>Orange Choco</td>\n",
       "      <td>$7,273</td>\n",
       "      <td>96</td>\n",
       "      <td>11</td>\n",
       "      <td>1,020</td>\n",
       "      <td>$6,253</td>\n",
       "      <td>86%</td>\n",
       "    </tr>\n",
       "    <tr>\n",
       "      <th>152</th>\n",
       "      <td>Ches Bonnell</td>\n",
       "      <td>Canada</td>\n",
       "      <td>After Nines</td>\n",
       "      <td>$8,435</td>\n",
       "      <td>42</td>\n",
       "      <td>10</td>\n",
       "      <td>410</td>\n",
       "      <td>$8,025</td>\n",
       "      <td>95%</td>\n",
       "    </tr>\n",
       "    <tr>\n",
       "      <th>128</th>\n",
       "      <td>Oby Sorrel</td>\n",
       "      <td>Canada</td>\n",
       "      <td>Choco Coated Almonds</td>\n",
       "      <td>$6,657</td>\n",
       "      <td>303</td>\n",
       "      <td>9</td>\n",
       "      <td>2,621</td>\n",
       "      <td>$4,036</td>\n",
       "      <td>61%</td>\n",
       "    </tr>\n",
       "    <tr>\n",
       "      <th>58</th>\n",
       "      <td>Husein Augar</td>\n",
       "      <td>New Zealand</td>\n",
       "      <td>Manuka Honey Choco</td>\n",
       "      <td>$1,085</td>\n",
       "      <td>273</td>\n",
       "      <td>7</td>\n",
       "      <td>1,955</td>\n",
       "      <td>-$870</td>\n",
       "      <td>-80%</td>\n",
       "    </tr>\n",
       "  </tbody>\n",
       "</table>\n",
       "</div>"
      ],
      "text/plain": [
       "     Sales Person    Geography               Product  Amount  Units  \\\n",
       "28   Gigi Bohling       Canada      Fruit & Nut Bars  $6,314     15   \n",
       "212  Husein Augar  New Zealand          Orange Choco  $7,273     96   \n",
       "152  Ches Bonnell       Canada           After Nines  $8,435     42   \n",
       "128    Oby Sorrel       Canada  Choco Coated Almonds  $6,657    303   \n",
       "58   Husein Augar  New Zealand    Manuka Honey Choco  $1,085    273   \n",
       "\n",
       "     cost per unit   Cost  Profit profit %  \n",
       "28               6     97  $6,217      98%  \n",
       "212             11  1,020  $6,253      86%  \n",
       "152             10    410  $8,025      95%  \n",
       "128              9  2,621  $4,036      61%  \n",
       "58               7  1,955   -$870     -80%  "
      ]
     },
     "execution_count": 2,
     "metadata": {},
     "output_type": "execute_result"
    }
   ],
   "source": [
    "df=pd.read_csv(\"choclate.csv\")\n",
    "\n",
    "df.sample(5)"
   ]
  },
  {
   "cell_type": "code",
   "execution_count": 3,
   "id": "54a6e9d6",
   "metadata": {},
   "outputs": [
    {
     "data": {
      "text/plain": [
       "(300, 9)"
      ]
     },
     "execution_count": 3,
     "metadata": {},
     "output_type": "execute_result"
    }
   ],
   "source": [
    "df.shape"
   ]
  },
  {
   "cell_type": "code",
   "execution_count": 4,
   "id": "e40f1e96",
   "metadata": {},
   "outputs": [
    {
     "data": {
      "text/plain": [
       "Index(['Sales Person', 'Geography', 'Product', 'Amount', 'Units',\n",
       "       'cost per unit', 'Cost', 'Profit', 'profit %'],\n",
       "      dtype='object')"
      ]
     },
     "execution_count": 4,
     "metadata": {},
     "output_type": "execute_result"
    }
   ],
   "source": [
    "df.columns"
   ]
  },
  {
   "cell_type": "code",
   "execution_count": 5,
   "id": "667c7530",
   "metadata": {},
   "outputs": [
    {
     "data": {
      "text/plain": [
       "0"
      ]
     },
     "execution_count": 5,
     "metadata": {},
     "output_type": "execute_result"
    }
   ],
   "source": [
    "df.duplicated().sum()"
   ]
  },
  {
   "cell_type": "code",
   "execution_count": 7,
   "id": "b21183ed",
   "metadata": {},
   "outputs": [
    {
     "name": "stdout",
     "output_type": "stream",
     "text": [
      "<class 'pandas.core.frame.DataFrame'>\n",
      "RangeIndex: 300 entries, 0 to 299\n",
      "Data columns (total 9 columns):\n",
      " #   Column         Non-Null Count  Dtype \n",
      "---  ------         --------------  ----- \n",
      " 0   Sales Person   300 non-null    object\n",
      " 1   Geography      300 non-null    object\n",
      " 2   Product        300 non-null    object\n",
      " 3   Amount         300 non-null    object\n",
      " 4   Units          300 non-null    int64 \n",
      " 5   cost per unit  300 non-null    int64 \n",
      " 6   Cost           300 non-null    object\n",
      " 7   Profit         300 non-null    object\n",
      " 8   profit %       300 non-null    object\n",
      "dtypes: int64(2), object(7)\n",
      "memory usage: 21.2+ KB\n"
     ]
    }
   ],
   "source": [
    "df.info()"
   ]
  },
  {
   "cell_type": "markdown",
   "id": "41f16e03",
   "metadata": {},
   "source": [
    "## Data Cleaning:"
   ]
  },
  {
   "cell_type": "markdown",
   "id": "853f4ca1",
   "metadata": {},
   "source": [
    "#### Replace the dollar sign from Amount & Profit"
   ]
  },
  {
   "cell_type": "code",
   "execution_count": 8,
   "id": "6165b35e",
   "metadata": {},
   "outputs": [],
   "source": [
    "# Assuming df is your DataFrame\n",
    "df['Amount'] = df['Amount'].astype(str)  # Convert column to string type\n",
    "df['Amount'] = df['Amount'].str.replace('$', '', regex=True)\n",
    "df['Amount'] = df['Amount'].str.replace(',', '', regex=True)\n",
    "\n",
    "# Remove any remaining non-numeric characters\n",
    "df['Amount'] = df['Amount'].str.replace('[^0-9]', '', regex=True)\n",
    "\n",
    "# Convert the 'Amount' column to integers\n",
    "df['Amount'] = df['Amount'].astype(np.int64)\n"
   ]
  },
  {
   "cell_type": "markdown",
   "id": "04da6aef",
   "metadata": {},
   "source": [
    "#### There is a value in the 'Profit' column that cannot be converted to an integer due to the presence of parentheses.To resolve this issue, I had to remove the parentheses from the 'Profit' column before converting it to an integer type"
   ]
  },
  {
   "cell_type": "code",
   "execution_count": 9,
   "id": "c34fae1e",
   "metadata": {},
   "outputs": [],
   "source": [
    "# Assuming df is your DataFrame\n",
    "df['Profit'] = df['Profit'].astype(str)  # Convert column to string type\n",
    "df['Profit'] = df['Profit'].str.replace('$', '', regex=True)\n",
    "df['Profit'] = df['Profit'].str.replace(',', '', regex=True)\n",
    "df['Profit'] = df['Profit'].str.replace('\\(', '', regex=True)  # Escape '('\n",
    "df['Profit'] = df['Profit'].str.replace('\\)', '', regex=True)  # Escape ')'\n",
    "df['Profit'] = df['Profit'].str.replace('[^0-9-]', '', regex=True)  # Remove non-numeric characters except '-'\n",
    "\n",
    "# Convert the 'Profit' column to integers\n",
    "df['Profit'] = df['Profit'].astype(np.int64)\n"
   ]
  },
  {
   "cell_type": "markdown",
   "id": "ddcc5054",
   "metadata": {},
   "source": [
    "#### Some Calculations"
   ]
  },
  {
   "cell_type": "code",
   "execution_count": 10,
   "id": "f6490f18",
   "metadata": {},
   "outputs": [],
   "source": [
    "df['Cost']=df['Units'] * df['cost per unit']\n",
    "df['Profit']= df['Amount'] - df['Cost']\n",
    "df['profit %'] =df['Profit'] / df['Amount']\n",
    "df['profit %'] =df['profit %'] *100\n",
    "df['profit %'] =df['profit %'].round(2).astype(str) +'%'\n",
    "df=df.rename(columns={'profit %' : 'Profit_Percentage'})\n",
    "df=df.rename(columns={'cost per unit' : 'Cost_Per_Unit'})"
   ]
  },
  {
   "cell_type": "code",
   "execution_count": 11,
   "id": "8807e34e",
   "metadata": {
    "scrolled": false
   },
   "outputs": [
    {
     "data": {
      "text/html": [
       "<div>\n",
       "<style scoped>\n",
       "    .dataframe tbody tr th:only-of-type {\n",
       "        vertical-align: middle;\n",
       "    }\n",
       "\n",
       "    .dataframe tbody tr th {\n",
       "        vertical-align: top;\n",
       "    }\n",
       "\n",
       "    .dataframe thead th {\n",
       "        text-align: right;\n",
       "    }\n",
       "</style>\n",
       "<table border=\"1\" class=\"dataframe\">\n",
       "  <thead>\n",
       "    <tr style=\"text-align: right;\">\n",
       "      <th></th>\n",
       "      <th>Sales Person</th>\n",
       "      <th>Geography</th>\n",
       "      <th>Product</th>\n",
       "      <th>Amount</th>\n",
       "      <th>Units</th>\n",
       "      <th>Cost_Per_Unit</th>\n",
       "      <th>Cost</th>\n",
       "      <th>Profit</th>\n",
       "      <th>Profit_Percentage</th>\n",
       "    </tr>\n",
       "  </thead>\n",
       "  <tbody>\n",
       "    <tr>\n",
       "      <th>0</th>\n",
       "      <td>Ram Mahesh</td>\n",
       "      <td>New Zealand</td>\n",
       "      <td>70% Dark Bites</td>\n",
       "      <td>1624</td>\n",
       "      <td>114</td>\n",
       "      <td>14</td>\n",
       "      <td>1596</td>\n",
       "      <td>28</td>\n",
       "      <td>1.72%</td>\n",
       "    </tr>\n",
       "    <tr>\n",
       "      <th>1</th>\n",
       "      <td>Brien Boise</td>\n",
       "      <td>USA</td>\n",
       "      <td>Choco Coated Almonds</td>\n",
       "      <td>6706</td>\n",
       "      <td>459</td>\n",
       "      <td>9</td>\n",
       "      <td>4131</td>\n",
       "      <td>2575</td>\n",
       "      <td>38.4%</td>\n",
       "    </tr>\n",
       "    <tr>\n",
       "      <th>2</th>\n",
       "      <td>Husein Augar</td>\n",
       "      <td>USA</td>\n",
       "      <td>Almond Choco</td>\n",
       "      <td>959</td>\n",
       "      <td>147</td>\n",
       "      <td>12</td>\n",
       "      <td>1764</td>\n",
       "      <td>-805</td>\n",
       "      <td>-83.94%</td>\n",
       "    </tr>\n",
       "    <tr>\n",
       "      <th>3</th>\n",
       "      <td>Carla Molina</td>\n",
       "      <td>Canada</td>\n",
       "      <td>Drinking Coco</td>\n",
       "      <td>9632</td>\n",
       "      <td>288</td>\n",
       "      <td>6</td>\n",
       "      <td>1728</td>\n",
       "      <td>7904</td>\n",
       "      <td>82.06%</td>\n",
       "    </tr>\n",
       "    <tr>\n",
       "      <th>4</th>\n",
       "      <td>Curtice Advani</td>\n",
       "      <td>UK</td>\n",
       "      <td>White Choc</td>\n",
       "      <td>2100</td>\n",
       "      <td>414</td>\n",
       "      <td>13</td>\n",
       "      <td>5382</td>\n",
       "      <td>-3282</td>\n",
       "      <td>-156.29%</td>\n",
       "    </tr>\n",
       "  </tbody>\n",
       "</table>\n",
       "</div>"
      ],
      "text/plain": [
       "     Sales Person    Geography               Product  Amount  Units  \\\n",
       "0      Ram Mahesh  New Zealand        70% Dark Bites    1624    114   \n",
       "1     Brien Boise          USA  Choco Coated Almonds    6706    459   \n",
       "2    Husein Augar          USA          Almond Choco     959    147   \n",
       "3    Carla Molina       Canada         Drinking Coco    9632    288   \n",
       "4  Curtice Advani           UK            White Choc    2100    414   \n",
       "\n",
       "   Cost_Per_Unit  Cost  Profit Profit_Percentage  \n",
       "0             14  1596      28             1.72%  \n",
       "1              9  4131    2575             38.4%  \n",
       "2             12  1764    -805           -83.94%  \n",
       "3              6  1728    7904            82.06%  \n",
       "4             13  5382   -3282          -156.29%  "
      ]
     },
     "execution_count": 11,
     "metadata": {},
     "output_type": "execute_result"
    }
   ],
   "source": [
    "df.head()"
   ]
  },
  {
   "cell_type": "code",
   "execution_count": 15,
   "id": "dd1ed3a7",
   "metadata": {},
   "outputs": [
    {
     "data": {
      "text/plain": [
       "Sales Person         0\n",
       "Geography            0\n",
       "Product              0\n",
       "Amount               0\n",
       "Units                0\n",
       "Cost_Per_Unit        0\n",
       "Cost                 0\n",
       "Profit               0\n",
       "Profit_Percentage    0\n",
       "dtype: int64"
      ]
     },
     "execution_count": 15,
     "metadata": {},
     "output_type": "execute_result"
    }
   ],
   "source": [
    "df.isnull().sum()"
   ]
  },
  {
   "cell_type": "code",
   "execution_count": 16,
   "id": "24242518",
   "metadata": {},
   "outputs": [
    {
     "data": {
      "text/plain": [
       "0"
      ]
     },
     "execution_count": 16,
     "metadata": {},
     "output_type": "execute_result"
    }
   ],
   "source": [
    "df.duplicated().sum()"
   ]
  },
  {
   "cell_type": "code",
   "execution_count": 12,
   "id": "1c97aa95",
   "metadata": {
    "scrolled": true
   },
   "outputs": [
    {
     "data": {
      "text/html": [
       "<div>\n",
       "<style scoped>\n",
       "    .dataframe tbody tr th:only-of-type {\n",
       "        vertical-align: middle;\n",
       "    }\n",
       "\n",
       "    .dataframe tbody tr th {\n",
       "        vertical-align: top;\n",
       "    }\n",
       "\n",
       "    .dataframe thead th {\n",
       "        text-align: right;\n",
       "    }\n",
       "</style>\n",
       "<table border=\"1\" class=\"dataframe\">\n",
       "  <thead>\n",
       "    <tr style=\"text-align: right;\">\n",
       "      <th></th>\n",
       "      <th>Amount</th>\n",
       "      <th>Units</th>\n",
       "      <th>Cost_Per_Unit</th>\n",
       "      <th>Cost</th>\n",
       "      <th>Profit</th>\n",
       "    </tr>\n",
       "  </thead>\n",
       "  <tbody>\n",
       "    <tr>\n",
       "      <th>count</th>\n",
       "      <td>300.000000</td>\n",
       "      <td>300.000000</td>\n",
       "      <td>300.000000</td>\n",
       "      <td>300.000000</td>\n",
       "      <td>300.000000</td>\n",
       "    </tr>\n",
       "    <tr>\n",
       "      <th>mean</th>\n",
       "      <td>4136.230000</td>\n",
       "      <td>152.200000</td>\n",
       "      <td>9.473333</td>\n",
       "      <td>1465.230000</td>\n",
       "      <td>2671.000000</td>\n",
       "    </tr>\n",
       "    <tr>\n",
       "      <th>std</th>\n",
       "      <td>3124.832629</td>\n",
       "      <td>118.099499</td>\n",
       "      <td>3.457717</td>\n",
       "      <td>1367.185074</td>\n",
       "      <td>3388.002574</td>\n",
       "    </tr>\n",
       "    <tr>\n",
       "      <th>min</th>\n",
       "      <td>0.000000</td>\n",
       "      <td>0.000000</td>\n",
       "      <td>3.000000</td>\n",
       "      <td>0.000000</td>\n",
       "      <td>-8025.000000</td>\n",
       "    </tr>\n",
       "    <tr>\n",
       "      <th>25%</th>\n",
       "      <td>1652.000000</td>\n",
       "      <td>54.000000</td>\n",
       "      <td>6.000000</td>\n",
       "      <td>468.000000</td>\n",
       "      <td>184.500000</td>\n",
       "    </tr>\n",
       "    <tr>\n",
       "      <th>50%</th>\n",
       "      <td>3437.000000</td>\n",
       "      <td>124.500000</td>\n",
       "      <td>9.000000</td>\n",
       "      <td>1075.500000</td>\n",
       "      <td>2324.500000</td>\n",
       "    </tr>\n",
       "    <tr>\n",
       "      <th>75%</th>\n",
       "      <td>6179.250000</td>\n",
       "      <td>220.500000</td>\n",
       "      <td>12.000000</td>\n",
       "      <td>2034.000000</td>\n",
       "      <td>4774.250000</td>\n",
       "    </tr>\n",
       "    <tr>\n",
       "      <th>max</th>\n",
       "      <td>16184.000000</td>\n",
       "      <td>525.000000</td>\n",
       "      <td>17.000000</td>\n",
       "      <td>8823.000000</td>\n",
       "      <td>15833.000000</td>\n",
       "    </tr>\n",
       "  </tbody>\n",
       "</table>\n",
       "</div>"
      ],
      "text/plain": [
       "             Amount       Units  Cost_Per_Unit         Cost        Profit\n",
       "count    300.000000  300.000000     300.000000   300.000000    300.000000\n",
       "mean    4136.230000  152.200000       9.473333  1465.230000   2671.000000\n",
       "std     3124.832629  118.099499       3.457717  1367.185074   3388.002574\n",
       "min        0.000000    0.000000       3.000000     0.000000  -8025.000000\n",
       "25%     1652.000000   54.000000       6.000000   468.000000    184.500000\n",
       "50%     3437.000000  124.500000       9.000000  1075.500000   2324.500000\n",
       "75%     6179.250000  220.500000      12.000000  2034.000000   4774.250000\n",
       "max    16184.000000  525.000000      17.000000  8823.000000  15833.000000"
      ]
     },
     "execution_count": 12,
     "metadata": {},
     "output_type": "execute_result"
    }
   ],
   "source": [
    "df.describe()"
   ]
  },
  {
   "cell_type": "code",
   "execution_count": 22,
   "id": "dfe518c4",
   "metadata": {},
   "outputs": [
    {
     "data": {
      "text/html": [
       "<div>\n",
       "<style scoped>\n",
       "    .dataframe tbody tr th:only-of-type {\n",
       "        vertical-align: middle;\n",
       "    }\n",
       "\n",
       "    .dataframe tbody tr th {\n",
       "        vertical-align: top;\n",
       "    }\n",
       "\n",
       "    .dataframe thead th {\n",
       "        text-align: right;\n",
       "    }\n",
       "</style>\n",
       "<table border=\"1\" class=\"dataframe\">\n",
       "  <thead>\n",
       "    <tr style=\"text-align: right;\">\n",
       "      <th></th>\n",
       "      <th>Sales Person</th>\n",
       "      <th>Geography</th>\n",
       "      <th>Product</th>\n",
       "      <th>Profit_Percentage</th>\n",
       "    </tr>\n",
       "  </thead>\n",
       "  <tbody>\n",
       "    <tr>\n",
       "      <th>count</th>\n",
       "      <td>300</td>\n",
       "      <td>300</td>\n",
       "      <td>300</td>\n",
       "      <td>300</td>\n",
       "    </tr>\n",
       "    <tr>\n",
       "      <th>unique</th>\n",
       "      <td>10</td>\n",
       "      <td>6</td>\n",
       "      <td>22</td>\n",
       "      <td>297</td>\n",
       "    </tr>\n",
       "    <tr>\n",
       "      <th>top</th>\n",
       "      <td>Curtice Advani</td>\n",
       "      <td>India</td>\n",
       "      <td>Organic Choco Syrup</td>\n",
       "      <td>47.77%</td>\n",
       "    </tr>\n",
       "    <tr>\n",
       "      <th>freq</th>\n",
       "      <td>38</td>\n",
       "      <td>58</td>\n",
       "      <td>18</td>\n",
       "      <td>2</td>\n",
       "    </tr>\n",
       "  </tbody>\n",
       "</table>\n",
       "</div>"
      ],
      "text/plain": [
       "          Sales Person Geography              Product Profit_Percentage\n",
       "count              300       300                  300               300\n",
       "unique              10         6                   22               297\n",
       "top     Curtice Advani     India  Organic Choco Syrup            47.77%\n",
       "freq                38        58                   18                 2"
      ]
     },
     "execution_count": 22,
     "metadata": {},
     "output_type": "execute_result"
    }
   ],
   "source": [
    "df.describe(include=object)"
   ]
  },
  {
   "cell_type": "markdown",
   "id": "c85f92c4",
   "metadata": {},
   "source": [
    "## Univariate Analysis:"
   ]
  },
  {
   "cell_type": "markdown",
   "id": "6a9a87da",
   "metadata": {},
   "source": [
    "### Amount:"
   ]
  },
  {
   "cell_type": "code",
   "execution_count": 13,
   "id": "4497a50d",
   "metadata": {
    "scrolled": true
   },
   "outputs": [
    {
     "data": {
      "image/png": "[encoded data removed]",
      "text/plain": [
       "<Figure size 1000x600 with 1 Axes>"
      ]
     },
     "metadata": {},
     "output_type": "display_data"
    }
   ],
   "source": [
    "plt.figure(figsize=(10,6))\n",
    "sns.histplot(df['Amount'],kde=True,color='green')\n",
    "plt.title('Amount Distribution',size=18)\n",
    "plt.xlabel('Amount',size=14)\n",
    "plt.ylabel('Density',size=14)\n",
    "plt.show()"
   ]
  },
  {
   "cell_type": "markdown",
   "id": "0d3e69a9",
   "metadata": {},
   "source": [
    "### Profit:"
   ]
  },
  {
   "cell_type": "code",
   "execution_count": 14,
   "id": "784c366e",
   "metadata": {},
   "outputs": [
    {
     "data": {
      "image/png": "[encoded data removed]",
      "text/plain": [
       "<Figure size 1000x600 with 1 Axes>"
      ]
     },
     "metadata": {},
     "output_type": "display_data"
    }
   ],
   "source": [
    "plt.figure(figsize=(10,6))\n",
    "sns.histplot(df['Profit'],kde=True,color='green')\n",
    "plt.title('Profit Distribution',size=18)\n",
    "plt.xlabel('Profit',size=14)\n",
    "plt.ylabel('Density',size=14)\n",
    "plt.show()"
   ]
  },
  {
   "cell_type": "markdown",
   "id": "f08f8c86",
   "metadata": {},
   "source": [
    "### BoxPlot for Numerical Variable:"
   ]
  },
  {
   "cell_type": "code",
   "execution_count": 17,
   "id": "36ba64f0",
   "metadata": {},
   "outputs": [
    {
     "data": {
      "image/png": "[encoded data removed]",
      "text/plain": [
       "<Figure size 1000x600 with 1 Axes>"
      ]
     },
     "metadata": {},
     "output_type": "display_data"
    }
   ],
   "source": [
    "plt.figure(figsize = (10,6))\n",
    "sns.boxplot(df.Amount,orient='h')\n",
    "plt.title('Distribution Amount',size=18)\n",
    "plt.show()"
   ]
  },
  {
   "cell_type": "code",
   "execution_count": 18,
   "id": "ee8d08f2",
   "metadata": {},
   "outputs": [
    {
     "name": "stdout",
     "output_type": "stream",
     "text": [
      "4527.25\n"
     ]
    }
   ],
   "source": [
    "Q1 = df['Amount'].quantile(0.25)\n",
    "Q3 = df['Amount'].quantile(0.75)\n",
    "IQR = Q3 - Q1\n",
    "print(IQR)"
   ]
  },
  {
   "cell_type": "code",
   "execution_count": 19,
   "id": "620633ca",
   "metadata": {
    "scrolled": true
   },
   "outputs": [
    {
     "data": {
      "text/html": [
       "<div>\n",
       "<style scoped>\n",
       "    .dataframe tbody tr th:only-of-type {\n",
       "        vertical-align: middle;\n",
       "    }\n",
       "\n",
       "    .dataframe tbody tr th {\n",
       "        vertical-align: top;\n",
       "    }\n",
       "\n",
       "    .dataframe thead th {\n",
       "        text-align: right;\n",
       "    }\n",
       "</style>\n",
       "<table border=\"1\" class=\"dataframe\">\n",
       "  <thead>\n",
       "    <tr style=\"text-align: right;\">\n",
       "      <th></th>\n",
       "      <th>Sales Person</th>\n",
       "      <th>Geography</th>\n",
       "      <th>Product</th>\n",
       "      <th>Amount</th>\n",
       "      <th>Units</th>\n",
       "      <th>Cost_Per_Unit</th>\n",
       "      <th>Cost</th>\n",
       "      <th>Profit</th>\n",
       "      <th>Profit_Percentage</th>\n",
       "    </tr>\n",
       "  </thead>\n",
       "  <tbody>\n",
       "    <tr>\n",
       "      <th>17</th>\n",
       "      <td>Gigi Bohling</td>\n",
       "      <td>India</td>\n",
       "      <td>Orange Choco</td>\n",
       "      <td>15610</td>\n",
       "      <td>339</td>\n",
       "      <td>11</td>\n",
       "      <td>3729</td>\n",
       "      <td>11881</td>\n",
       "      <td>76.11%</td>\n",
       "    </tr>\n",
       "    <tr>\n",
       "      <th>50</th>\n",
       "      <td>Gigi Bohling</td>\n",
       "      <td>Canada</td>\n",
       "      <td>Mint Chip Choco</td>\n",
       "      <td>16184</td>\n",
       "      <td>39</td>\n",
       "      <td>9</td>\n",
       "      <td>351</td>\n",
       "      <td>15833</td>\n",
       "      <td>97.83%</td>\n",
       "    </tr>\n",
       "    <tr>\n",
       "      <th>72</th>\n",
       "      <td>Husein Augar</td>\n",
       "      <td>India</td>\n",
       "      <td>Caramel Stuffed Bars</td>\n",
       "      <td>14329</td>\n",
       "      <td>150</td>\n",
       "      <td>10</td>\n",
       "      <td>1500</td>\n",
       "      <td>12829</td>\n",
       "      <td>89.53%</td>\n",
       "    </tr>\n",
       "    <tr>\n",
       "      <th>79</th>\n",
       "      <td>Gigi Bohling</td>\n",
       "      <td>USA</td>\n",
       "      <td>Raspberry Choco</td>\n",
       "      <td>13391</td>\n",
       "      <td>201</td>\n",
       "      <td>12</td>\n",
       "      <td>2412</td>\n",
       "      <td>10979</td>\n",
       "      <td>81.99%</td>\n",
       "    </tr>\n",
       "  </tbody>\n",
       "</table>\n",
       "</div>"
      ],
      "text/plain": [
       "    Sales Person Geography               Product  Amount  Units  \\\n",
       "17  Gigi Bohling     India          Orange Choco   15610    339   \n",
       "50  Gigi Bohling    Canada       Mint Chip Choco   16184     39   \n",
       "72  Husein Augar     India  Caramel Stuffed Bars   14329    150   \n",
       "79  Gigi Bohling       USA       Raspberry Choco   13391    201   \n",
       "\n",
       "    Cost_Per_Unit  Cost  Profit Profit_Percentage  \n",
       "17             11  3729   11881            76.11%  \n",
       "50              9   351   15833            97.83%  \n",
       "72             10  1500   12829            89.53%  \n",
       "79             12  2412   10979            81.99%  "
      ]
     },
     "execution_count": 19,
     "metadata": {},
     "output_type": "execute_result"
    }
   ],
   "source": [
    "Upper_Quartile=Q3+1.5*IQR\n",
    "Lower_Quartile=Q1-1.5*IQR\n",
    "df[(df['Amount']<Lower_Quartile) | (df['Amount'] > Upper_Quartile)]"
   ]
  },
  {
   "cell_type": "markdown",
   "id": "cd177f90",
   "metadata": {},
   "source": [
    "## Univarite Analysis for Categorical Variable:"
   ]
  },
  {
   "cell_type": "markdown",
   "id": "c31e0e45",
   "metadata": {},
   "source": [
    "### Sales Person:"
   ]
  },
  {
   "cell_type": "code",
   "execution_count": 21,
   "id": "4d36a53d",
   "metadata": {
    "scrolled": true
   },
   "outputs": [
    {
     "data": {
      "image/png": "[encoded data removed]",
      "text/plain": [
       "<Figure size 1000x600 with 1 Axes>"
      ]
     },
     "metadata": {},
     "output_type": "display_data"
    }
   ],
   "source": [
    "plt.figure(figsize=(10,6))\n",
    "sns.countplot(data=df, x='Sales Person')\n",
    "plt.title('Total Number of Sales Person', size=18)\n",
    "plt.xlabel('Sales Person', size=14)\n",
    "plt.xticks(rotation=45, ha='right')  # Rotate x-axis labels by 45 degrees\n",
    "plt.tight_layout()  # Adjust layout for better spacing\n",
    "plt.show()\n"
   ]
  },
  {
   "cell_type": "markdown",
   "id": "b83dbf69",
   "metadata": {},
   "source": [
    "### Geography:"
   ]
  },
  {
   "cell_type": "code",
   "execution_count": 23,
   "id": "11b5ce19",
   "metadata": {},
   "outputs": [
    {
     "data": {
      "image/png": "[encoded data removed]",
      "text/plain": [
       "<Figure size 1000x600 with 1 Axes>"
      ]
     },
     "metadata": {},
     "output_type": "display_data"
    }
   ],
   "source": [
    "plt.figure(figsize = (10,6))\n",
    "sns.countplot(data=df,x='Geography',palette='husl')\n",
    "plt.title('Geography Distribution',size=18)\n",
    "plt.xlabel('Geography',size=14)\n",
    "plt.ylabel('Count',size=14)\n",
    "plt.show()"
   ]
  },
  {
   "cell_type": "markdown",
   "id": "1512800e",
   "metadata": {},
   "source": [
    "## Using the GroupBy function on the 'Geography' Column"
   ]
  },
  {
   "cell_type": "markdown",
   "id": "655a60b8",
   "metadata": {},
   "source": [
    "## Pivot Table "
   ]
  },
  {
   "cell_type": "code",
   "execution_count": null,
   "id": "4084303e",
   "metadata": {},
   "outputs": [],
   "source": [
    "df.pivot_table(index='Sales Person',columns='Geography',values='Units',aggfunc='count',margins=True)"
   ]
  },
  {
   "cell_type": "code",
   "execution_count": null,
   "id": "df905417",
   "metadata": {},
   "outputs": [],
   "source": [
    "df.pivot_table(index='Sales Person',columns='Geography',values='Profit',aggfunc='sum',margins=True)"
   ]
  },
  {
   "cell_type": "code",
   "execution_count": null,
   "id": "a449a8c7",
   "metadata": {
    "scrolled": true
   },
   "outputs": [],
   "source": [
    "df.pivot_table(index='Product',columns='Geography',values='Profit',aggfunc='sum',margins=True,fill_value=0)"
   ]
  },
  {
   "cell_type": "markdown",
   "id": "1c24db70",
   "metadata": {},
   "source": [
    "## Data Visualization "
   ]
  },
  {
   "cell_type": "code",
   "execution_count": null,
   "id": "a03bce6c",
   "metadata": {
    "scrolled": true
   },
   "outputs": [],
   "source": [
    "plt.axis('equal')\n",
    "g['Amount'].mean().plot(kind='pie',autopct='%0.2f%%',radius=3.5,shadow=True,explode=[0,0.3,0,0,0,0.2])\n",
    "plt.show()"
   ]
  },
  {
   "cell_type": "code",
   "execution_count": null,
   "id": "656ea1b7",
   "metadata": {},
   "outputs": [],
   "source": [
    "plt.axis('equal')\n",
    "g['Profit'].mean().plot(kind='pie',autopct='%0.2f%%',radius=3.5,shadow=True,explode=[0,0.3,0,0,0,0.2])\n",
    "plt.show()"
   ]
  },
  {
   "cell_type": "markdown",
   "id": "9fcb2790",
   "metadata": {},
   "source": [
    "## Bar Graph"
   ]
  },
  {
   "cell_type": "code",
   "execution_count": null,
   "id": "25c58d7b",
   "metadata": {},
   "outputs": [],
   "source": [
    "plt.bar(df['Geography'],df['Profit'],width=0.5,label='Profit',color='Green')\n",
    "plt.xlabel(\"Country Name\")\n",
    "plt.ylabel(\"Profit/Unit\")\n",
    "plt.title(\"Profits of Each Country\")\n",
    "plt.legend()\n",
    "\n",
    "## Set the figure size\n",
    "fig = plt.gcf()\n",
    "fig.set_size_inches(10, 7)\n",
    "# Adjust plot margins\n",
    "plt.subplots_adjust(left=0.1, right=0.9, top=0.9, bottom=0.1)"
   ]
  },
  {
   "cell_type": "code",
   "execution_count": null,
   "id": "82a53ccd",
   "metadata": {},
   "outputs": [],
   "source": [
    "plt.bar(df['Geography'],df['Amount'],width=0.5,label='Amount',color='Red')\n",
    "plt.xlabel(\"Country Name\")\n",
    "plt.ylabel(\"Amount\")\n",
    "plt.title(\"Amount of Each Country\")\n",
    "plt.legend()\n",
    "## Set the figure size\n",
    "fig = plt.gcf()\n",
    "fig.set_size_inches(10, 7)\n",
    "# Adjust plot margins\n",
    "plt.subplots_adjust(left=0.1, right=0.9, top=0.9, bottom=0.1)"
   ]
  },
  {
   "cell_type": "code",
   "execution_count": null,
   "id": "e6b8792d",
   "metadata": {},
   "outputs": [],
   "source": [
    "plt.bar(df['Geography'],df['Units'],width=0.5,label='Unit',color='Black')\n",
    "plt.xlabel(\"Country Name\")\n",
    "plt.ylabel(\"Unit\")\n",
    "plt.title(\"Unit of Each Country\")\n",
    "plt.legend()\n",
    "## Set the figure size\n",
    "fig = plt.gcf()\n",
    "fig.set_size_inches(10, 7)\n",
    "# Adjust plot margins\n",
    "plt.subplots_adjust(left=0.1, right=0.9, top=0.9, bottom=0.1)"
   ]
  },
  {
   "cell_type": "markdown",
   "id": "92148eff",
   "metadata": {},
   "source": [
    "##  Using the GroupBy function on the 'Sales Person' column"
   ]
  },
  {
   "cell_type": "code",
   "execution_count": null,
   "id": "bf701ec2",
   "metadata": {},
   "outputs": [],
   "source": [
    "df['Sales Person'].unique()"
   ]
  },
  {
   "cell_type": "code",
   "execution_count": null,
   "id": "ec75c713",
   "metadata": {},
   "outputs": [],
   "source": [
    "g1=df.groupby('Sales Person')"
   ]
  },
  {
   "cell_type": "code",
   "execution_count": null,
   "id": "60c8974c",
   "metadata": {},
   "outputs": [],
   "source": [
    "plt.axis('equal')\n",
    "g1['Profit'].sum().plot(kind='pie',autopct='%0.2f%%',radius=3.5,shadow=True)\n",
    "plt.show()"
   ]
  },
  {
   "cell_type": "code",
   "execution_count": null,
   "id": "85412d35",
   "metadata": {},
   "outputs": [],
   "source": [
    "df['Product'].unique()"
   ]
  },
  {
   "cell_type": "code",
   "execution_count": null,
   "id": "829db41c",
   "metadata": {},
   "outputs": [],
   "source": [
    "g2=df.groupby('Product')"
   ]
  },
  {
   "cell_type": "code",
   "execution_count": null,
   "id": "e7bbbf1b",
   "metadata": {},
   "outputs": [],
   "source": [
    "for Product,Product_df in g2:\n",
    "    print(Product)\n",
    "    print(Product_df)"
   ]
  },
  {
   "cell_type": "code",
   "execution_count": null,
   "id": "56ab3924",
   "metadata": {},
   "outputs": [],
   "source": [
    "g2.describe()"
   ]
  },
  {
   "cell_type": "code",
   "execution_count": null,
   "id": "148e0e13",
   "metadata": {},
   "outputs": [],
   "source": [
    "plt.axis('equal')\n",
    "g2['Profit'].sum().plot(kind='pie',autopct='%0.2f%%',radius=3.5,shadow=True)\n",
    "plt.show()"
   ]
  },
  {
   "cell_type": "markdown",
   "id": "e85401a9",
   "metadata": {},
   "source": [
    "## How I cleaned the data:\n",
    "\n",
    "1. Replace the dollar sign from Amount & Profit.\n",
    "2. Changing their datatype to Integer(int64)\n"
   ]
  },
  {
   "cell_type": "markdown",
   "id": "925ee82b",
   "metadata": {},
   "source": [
    "## Calculation:\n",
    "\n",
    "1. Cost = Units * Cost_Per_Unit\n",
    "2. Profit= Amount - Cost\n",
    "3. Profit_Percentage =(Profit/Amount)*100\n",
    "\n"
   ]
  },
  {
   "cell_type": "markdown",
   "id": "516a27ae",
   "metadata": {},
   "source": [
    "## Summarize:\n",
    "\n",
    "#### Sales Person:\n",
    "    1. Salesperson Curtice Advani has sold the most chocolate in six countries compared to other salespeople.\n",
    "    2. Salesperson Gigi Bohling has earned the highest profit in six countries compared to other salespeople, with Ram Mahesh being the second-highest earner.\n",
    "#### Products:\n",
    "    1. In Australia, the flavors Orange Choco and Raspberry Choco are not available. In Canada, the products 50% Dark Bites, 85% Dark Bars, Orange Choco, and Raspberry Choco are not available. In India, the product Drinking Coco is not available. In New Zealand, the products Choco Coated Almonds and Milk Bars are not available. In the UK, the products 99% Dark & Pure, Almond Choco, Choco Coated Almonds, and Milk Bars are not available.\t\n",
    "    2. All kinds of chocolate products are available only in the USA.\n",
    "    3. Among those five countries, Baker's Choco Chips is the most profitable chocolate.\n",
    "#### Country:\n",
    "    1. Canada spends the most amount to buy the product.\n",
    "    2. Among the other countries, Canada's profit is significantly higher than the other six countries.\n",
    "#### The reason behind Canada's success:\n",
    "    Canada's total profit is 170,063, with a significant portion of it coming from the Mint Chip Choco product. While the     six countries generated a minimal profit of 42,725 from this product combined, Canada alone contributed 35,935 in profit from Mint Chip Choco, showcasing its exceptional performance and contribution to Canada's overall profit."
   ]
  },
  {
   "cell_type": "code",
   "execution_count": null,
   "id": "81ec756d",
   "metadata": {},
   "outputs": [],
   "source": []
  }
 ],
 "metadata": {
  "kernelspec": {
   "display_name": "Python 3 (ipykernel)",
   "language": "python",
   "name": "python3"
  },
  "language_info": {
   "codemirror_mode": {
    "name": "ipython",
    "version": 3
   },
   "file_extension": ".py",
   "mimetype": "text/x-python",
   "name": "python",
   "nbconvert_exporter": "python",
   "pygments_lexer": "ipython3",
   "version": "3.10.11"
  }
 },
 "nbformat": 4,
 "nbformat_minor": 5
}
