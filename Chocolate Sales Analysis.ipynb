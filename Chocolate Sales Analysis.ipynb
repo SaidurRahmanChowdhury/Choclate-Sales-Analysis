{
 "cells": [
  {
   "cell_type": "code",
   "execution_count": 2,
   "id": "3ce02ea5",
   "metadata": {},
   "outputs": [],
   "source": [
    "import pandas as pd\n",
    "import numpy as np\n",
    "import matplotlib.pyplot as plt\n",
    "%matplotlib inline"
   ]
  },
  {
   "cell_type": "markdown",
   "id": "c1cf9cd1",
   "metadata": {},
   "source": [
    "## Read the Csv File"
   ]
  },
  {
   "cell_type": "code",
   "execution_count": 4,
   "id": "4337d01c",
   "metadata": {},
   "outputs": [
    {
     "data": {
      "text/html": [
       "<div>\n",
       "<style scoped>\n",
       "    .dataframe tbody tr th:only-of-type {\n",
       "        vertical-align: middle;\n",
       "    }\n",
       "\n",
       "    .dataframe tbody tr th {\n",
       "        vertical-align: top;\n",
       "    }\n",
       "\n",
       "    .dataframe thead th {\n",
       "        text-align: right;\n",
       "    }\n",
       "</style>\n",
       "<table border=\"1\" class=\"dataframe\">\n",
       "  <thead>\n",
       "    <tr style=\"text-align: right;\">\n",
       "      <th></th>\n",
       "      <th>Sales Person</th>\n",
       "      <th>Geography</th>\n",
       "      <th>Product</th>\n",
       "      <th>Amount</th>\n",
       "      <th>Units</th>\n",
       "      <th>cost per unit</th>\n",
       "      <th>Cost</th>\n",
       "      <th>Profit</th>\n",
       "      <th>profit %</th>\n",
       "    </tr>\n",
       "  </thead>\n",
       "  <tbody>\n",
       "    <tr>\n",
       "      <th>0</th>\n",
       "      <td>Ram Mahesh</td>\n",
       "      <td>New Zealand</td>\n",
       "      <td>70% Dark Bites</td>\n",
       "      <td>$1,624</td>\n",
       "      <td>114</td>\n",
       "      <td>14</td>\n",
       "      <td>1,652</td>\n",
       "      <td>-$28</td>\n",
       "      <td>-2%</td>\n",
       "    </tr>\n",
       "    <tr>\n",
       "      <th>1</th>\n",
       "      <td>Brien Boise</td>\n",
       "      <td>USA</td>\n",
       "      <td>Choco Coated Almonds</td>\n",
       "      <td>$6,706</td>\n",
       "      <td>459</td>\n",
       "      <td>9</td>\n",
       "      <td>3,970</td>\n",
       "      <td>$2,736</td>\n",
       "      <td>41%</td>\n",
       "    </tr>\n",
       "    <tr>\n",
       "      <th>2</th>\n",
       "      <td>Husein Augar</td>\n",
       "      <td>USA</td>\n",
       "      <td>Almond Choco</td>\n",
       "      <td>$959</td>\n",
       "      <td>147</td>\n",
       "      <td>12</td>\n",
       "      <td>1,746</td>\n",
       "      <td>-$787</td>\n",
       "      <td>-82%</td>\n",
       "    </tr>\n",
       "    <tr>\n",
       "      <th>3</th>\n",
       "      <td>Carla Molina</td>\n",
       "      <td>Canada</td>\n",
       "      <td>Drinking Coco</td>\n",
       "      <td>$9,632</td>\n",
       "      <td>288</td>\n",
       "      <td>6</td>\n",
       "      <td>1,863</td>\n",
       "      <td>$7,769</td>\n",
       "      <td>81%</td>\n",
       "    </tr>\n",
       "    <tr>\n",
       "      <th>4</th>\n",
       "      <td>Curtice Advani</td>\n",
       "      <td>UK</td>\n",
       "      <td>White Choc</td>\n",
       "      <td>$2,100</td>\n",
       "      <td>414</td>\n",
       "      <td>13</td>\n",
       "      <td>5,444</td>\n",
       "      <td>-$3,344</td>\n",
       "      <td>-159%</td>\n",
       "    </tr>\n",
       "    <tr>\n",
       "      <th>...</th>\n",
       "      <td>...</td>\n",
       "      <td>...</td>\n",
       "      <td>...</td>\n",
       "      <td>...</td>\n",
       "      <td>...</td>\n",
       "      <td>...</td>\n",
       "      <td>...</td>\n",
       "      <td>...</td>\n",
       "      <td>...</td>\n",
       "    </tr>\n",
       "    <tr>\n",
       "      <th>295</th>\n",
       "      <td>Gunar Cockshoot</td>\n",
       "      <td>New Zealand</td>\n",
       "      <td>Almond Choco</td>\n",
       "      <td>$938</td>\n",
       "      <td>366</td>\n",
       "      <td>12</td>\n",
       "      <td>4,348</td>\n",
       "      <td>-$3,410</td>\n",
       "      <td>-364%</td>\n",
       "    </tr>\n",
       "    <tr>\n",
       "      <th>296</th>\n",
       "      <td>Gunar Cockshoot</td>\n",
       "      <td>Australia</td>\n",
       "      <td>Baker's Choco Chips</td>\n",
       "      <td>$8,841</td>\n",
       "      <td>303</td>\n",
       "      <td>6</td>\n",
       "      <td>1,697</td>\n",
       "      <td>$7,144</td>\n",
       "      <td>81%</td>\n",
       "    </tr>\n",
       "    <tr>\n",
       "      <th>297</th>\n",
       "      <td>Barr Faughny</td>\n",
       "      <td>UK</td>\n",
       "      <td>Peanut Butter Cubes</td>\n",
       "      <td>$4,018</td>\n",
       "      <td>126</td>\n",
       "      <td>12</td>\n",
       "      <td>1,559</td>\n",
       "      <td>$2,459</td>\n",
       "      <td>61%</td>\n",
       "    </tr>\n",
       "    <tr>\n",
       "      <th>298</th>\n",
       "      <td>Carla Molina</td>\n",
       "      <td>New Zealand</td>\n",
       "      <td>Raspberry Choco</td>\n",
       "      <td>$714</td>\n",
       "      <td>231</td>\n",
       "      <td>12</td>\n",
       "      <td>2,710</td>\n",
       "      <td>-$1,996</td>\n",
       "      <td>-280%</td>\n",
       "    </tr>\n",
       "    <tr>\n",
       "      <th>299</th>\n",
       "      <td>Husein Augar</td>\n",
       "      <td>Australia</td>\n",
       "      <td>White Choc</td>\n",
       "      <td>$3,850</td>\n",
       "      <td>102</td>\n",
       "      <td>13</td>\n",
       "      <td>1,341</td>\n",
       "      <td>$2,509</td>\n",
       "      <td>65%</td>\n",
       "    </tr>\n",
       "  </tbody>\n",
       "</table>\n",
       "<p>300 rows × 9 columns</p>\n",
       "</div>"
      ],
      "text/plain": [
       "        Sales Person    Geography               Product  Amount  Units  \\\n",
       "0         Ram Mahesh  New Zealand        70% Dark Bites  $1,624    114   \n",
       "1        Brien Boise          USA  Choco Coated Almonds  $6,706    459   \n",
       "2       Husein Augar          USA          Almond Choco    $959    147   \n",
       "3       Carla Molina       Canada         Drinking Coco  $9,632    288   \n",
       "4     Curtice Advani           UK            White Choc  $2,100    414   \n",
       "..               ...          ...                   ...     ...    ...   \n",
       "295  Gunar Cockshoot  New Zealand          Almond Choco    $938    366   \n",
       "296  Gunar Cockshoot    Australia   Baker's Choco Chips  $8,841    303   \n",
       "297     Barr Faughny           UK   Peanut Butter Cubes  $4,018    126   \n",
       "298     Carla Molina  New Zealand       Raspberry Choco    $714    231   \n",
       "299     Husein Augar    Australia            White Choc  $3,850    102   \n",
       "\n",
       "     cost per unit   Cost   Profit profit %  \n",
       "0               14  1,652     -$28      -2%  \n",
       "1                9  3,970   $2,736      41%  \n",
       "2               12  1,746    -$787     -82%  \n",
       "3                6  1,863   $7,769      81%  \n",
       "4               13  5,444  -$3,344    -159%  \n",
       "..             ...    ...      ...      ...  \n",
       "295             12  4,348  -$3,410    -364%  \n",
       "296              6  1,697   $7,144      81%  \n",
       "297             12  1,559   $2,459      61%  \n",
       "298             12  2,710  -$1,996    -280%  \n",
       "299             13  1,341   $2,509      65%  \n",
       "\n",
       "[300 rows x 9 columns]"
      ]
     },
     "execution_count": 4,
     "metadata": {},
     "output_type": "execute_result"
    }
   ],
   "source": [
    "df=pd.read_csv(\"choclate.csv\")"
   ]
  },
  {
   "cell_type": "markdown",
   "id": "0ef8438b",
   "metadata": {},
   "source": [
    "## Define Row & Column"
   ]
  },
  {
   "cell_type": "code",
   "execution_count": 6,
   "id": "54a6e9d6",
   "metadata": {},
   "outputs": [
    {
     "data": {
      "text/plain": [
       "(300, 9)"
      ]
     },
     "execution_count": 6,
     "metadata": {},
     "output_type": "execute_result"
    }
   ],
   "source": [
    "df.shape"
   ]
  },
  {
   "cell_type": "markdown",
   "id": "7910f8b8",
   "metadata": {},
   "source": [
    "## Number of Rows"
   ]
  },
  {
   "cell_type": "code",
   "execution_count": 10,
   "id": "e40f1e96",
   "metadata": {},
   "outputs": [
    {
     "data": {
      "text/plain": [
       "300"
      ]
     },
     "execution_count": 10,
     "metadata": {},
     "output_type": "execute_result"
    }
   ],
   "source": [
    "len(df)"
   ]
  },
  {
   "cell_type": "code",
   "execution_count": null,
   "id": "15e8e231",
   "metadata": {},
   "outputs": [],
   "source": []
  }
 ],
 "metadata": {
  "kernelspec": {
   "display_name": "Python 3 (ipykernel)",
   "language": "python",
   "name": "python3"
  },
  "language_info": {
   "codemirror_mode": {
    "name": "ipython",
    "version": 3
   },
   "file_extension": ".py",
   "mimetype": "text/x-python",
   "name": "python",
   "nbconvert_exporter": "python",
   "pygments_lexer": "ipython3",
   "version": "3.9.7"
  }
 },
 "nbformat": 4,
 "nbformat_minor": 5
}
